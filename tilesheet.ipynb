{
 "cells": [
  {
   "cell_type": "code",
   "execution_count": 1,
   "metadata": {},
   "outputs": [],
   "source": [
    "import os\n",
    "os.chdir(r\"MathWars\")\n",
    "\n",
    "from PIL import Image, ImageFont, ImageDraw\n",
    "\n",
    "font = ImageFont.truetype(r\"project\\STIXTwoMath-Regular.otf\", 30, encoding='utf-8')"
   ]
  },
  {
   "cell_type": "code",
   "execution_count": 9,
   "metadata": {},
   "outputs": [],
   "source": [
    "img = Image.new(\"RGB\", (96, 64), (200, 200, 200))\n",
    "draw = ImageDraw.Draw(img)\n",
    "draw.rectangle((2, 2, 29, 29), (240, 240, 240))\n",
    "draw.rectangle((34, 2, 61, 29), (180, 180, 245))\n",
    "draw.rectangle((66, 2, 93, 29), (245, 180, 180))\n",
    "draw.rectangle((2, 34, 29, 61), (30, 30, 30))\n",
    "draw.rectangle((32, 32, 63, 63), (0, 0, 0))\n",
    "img.save(\"tilesheet.png\")"
   ]
  },
  {
   "cell_type": "code",
   "execution_count": null,
   "metadata": {},
   "outputs": [],
   "source": []
  }
 ],
 "metadata": {
  "interpreter": {
   "hash": "d6db9cad3ba7a7a32f970a0551f71d97d05a86741be27110254f59247531d89a"
  },
  "kernelspec": {
   "display_name": "Python 3.10.4 ('test')",
   "language": "python",
   "name": "python3"
  },
  "language_info": {
   "codemirror_mode": {
    "name": "ipython",
    "version": 3
   },
   "file_extension": ".py",
   "mimetype": "text/x-python",
   "name": "python",
   "nbconvert_exporter": "python",
   "pygments_lexer": "ipython3",
   "version": "3.10.4"
  },
  "orig_nbformat": 4
 },
 "nbformat": 4,
 "nbformat_minor": 2
}
